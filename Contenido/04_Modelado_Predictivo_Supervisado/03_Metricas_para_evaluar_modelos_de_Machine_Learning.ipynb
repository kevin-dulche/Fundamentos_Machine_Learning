{
 "cells": [
  {
   "cell_type": "code",
   "execution_count": 1,
   "id": "8391d442",
   "metadata": {},
   "outputs": [],
   "source": [
    "import pandas as pd\n",
    "from sklearn.model_selection import train_test_split\n",
    "import ipywidgets as widgets\n",
    "from IPython.display import display"
   ]
  },
  {
   "cell_type": "code",
   "execution_count": 2,
   "id": "a497b23b",
   "metadata": {},
   "outputs": [],
   "source": [
    "# Cargar el conjunto de datos\n",
    "df_partidos = pd.read_csv(\"../partidos_cebollitas_fe82a1a4-e109-41b1-8b78-d9b4341dacaf.csv\")\n",
    "\n",
    "# df_partidos_cebollitas = df_partidos[(df_partidos['equipo_local'] == 'Cebollitas FC') | (df_partidos['equipo_visitante'] == 'Cebollitas FC')]\n",
    "df_partidos_cebollitas = df_partidos[df_partidos['equipo_local'] == 'Cebollitas FC']\n",
    "df_partidos_cebollitas.reset_index(drop=True, inplace=True)\n",
    "df_partidos = df_partidos_cebollitas.copy()\n",
    "\n",
    "# Crear variable objetivo\n",
    "df_partidos['diferencia_goles'] = df_partidos['goles_local'] - df_partidos['goles_visitante']\n",
    "\n",
    "# Variables predictoras\n",
    "X = df_partidos[['posesion_local (%)', 'tiros_arco_local']]\n",
    "y = df_partidos['diferencia_goles']\n",
    "\n",
    "# Division estandar: 80% entrenamiento, 20% prueba\n",
    "X_train, X_test, y_train, y_test = train_test_split(X, y, test_size=0.2, random_state=42)"
   ]
  },
  {
   "cell_type": "code",
   "execution_count": 3,
   "id": "5d66ab6f",
   "metadata": {},
   "outputs": [],
   "source": [
    "# Entrenar modelo de regresión lineal\n",
    "from sklearn.linear_model import LinearRegression\n",
    "\n",
    "model_rl = LinearRegression()\n",
    "model_rl.fit(X_train, y_train)\n",
    "\n",
    "# Hacer predicciones\n",
    "y_pred = model_rl.predict(X_test)"
   ]
  },
  {
   "cell_type": "code",
   "execution_count": 4,
   "id": "85e3d72b",
   "metadata": {},
   "outputs": [
    {
     "name": "stdout",
     "output_type": "stream",
     "text": [
      "Error Cuadrático Medio (MSE): 6.38\n",
      "Raíz del Error Cuadrático Medio (RMSE): 2.53\n",
      "Error Absoluto Medio (MAE): 2.01\n",
      "Coeficiente de determinación (R²): -1.73\n"
     ]
    }
   ],
   "source": [
    "from sklearn.metrics import mean_squared_error, mean_absolute_error, r2_score\n",
    "import numpy as np\n",
    "\n",
    "# Calcular métricas\n",
    "mse = mean_squared_error(y_test, y_pred)\n",
    "rmse = np.sqrt(mse)\n",
    "mae = mean_absolute_error(y_test, y_pred)\n",
    "r2 = r2_score(y_test, y_pred)\n",
    "\n",
    "# Mostrar métricas\n",
    "print(f\"Error Cuadrático Medio (MSE): {mse:.2f}\")\n",
    "print(f\"Raíz del Error Cuadrático Medio (RMSE): {rmse:.2f}\")\n",
    "print(f\"Error Absoluto Medio (MAE): {mae:.2f}\")\n",
    "print(f\"Coeficiente de determinación (R²): {r2:.2f}\")"
   ]
  },
  {
   "cell_type": "markdown",
   "id": "e497feb6",
   "metadata": {},
   "source": [
    "### Nota: ¿Qué significa un R² negativo?\n",
    "Un valor de R² negativo indica que tu modelo predictivo es peor que un modelo muy simple que simplemente predice el valor promedio de la variable objetivo para todas las observaciones.\n",
    "\n",
    "En otras palabras:\n",
    "\n",
    "* R² = 1: El modelo explica el 100% de la variabilidad de los datos (ajuste perfecto).\n",
    "* R² = 0: El modelo no es mejor ni peor que simplemente usar la media como predicción.\n",
    "* R² < 0: El modelo es activamente malo. Las predicciones están más lejos de los valores reales que si hubieras usado la media."
   ]
  },
  {
   "cell_type": "code",
   "execution_count": 5,
   "id": "82a7883d",
   "metadata": {},
   "outputs": [
    {
     "data": {
      "image/png": "[encoded data removed]",
      "text/plain": [
       "<Figure size 800x500 with 1 Axes>"
      ]
     },
     "metadata": {},
     "output_type": "display_data"
    }
   ],
   "source": [
    "import matplotlib.pyplot as plt\n",
    "import seaborn as sns\n",
    "\n",
    "plt.figure(figsize=(8, 5))\n",
    "sns.histplot(y_test - y_pred, bins=15, kde=True)\n",
    "plt.title(\"Distribución de Errores de Predicción (Residuos)\")\n",
    "plt.xlabel(\"Error (Real - Predicción)\")\n",
    "plt.ylabel(\"Frecuencia\")\n",
    "plt.show()"
   ]
  },
  {
   "cell_type": "markdown",
   "id": "5b1bc6cc",
   "metadata": {},
   "source": [
    "# Interpretación rápida\n",
    "\n",
    "* **MSE/RMSE**: Cuanto más cercano de 0, mejor. Indica cuanto se alejan las predicciones.\n",
    "* **MAE**: Error promedio en goles. Fácil de entender. Un MAE de 0.8 -> error promedio de 0.8 goles.\n",
    "* **R²**: Cuanto explica el modelo del comportamiento real. 1 es perfecto, 0 es como adivinar."
   ]
  },
  {
   "cell_type": "code",
   "execution_count": 6,
   "id": "ad9a4f29",
   "metadata": {},
   "outputs": [
    {
     "data": {
      "application/vnd.jupyter.widget-view+json": {
       "model_id": "0cdc1740d1204c609ce194e8e117d0e3",
       "version_major": 2,
       "version_minor": 0
      },
      "text/plain": [
       "interactive(children=(FloatSlider(value=1.0, description='Umbral MAE:', max=5.0, min=0.1), Output()), _dom_cla…"
      ]
     },
     "execution_count": 6,
     "metadata": {},
     "output_type": "execute_result"
    }
   ],
   "source": [
    "import ipywidgets as widgets\n",
    "\n",
    "def evaluar_predicciones(threshold_mac):\n",
    "    calidad = \"buena\" if mae <= threshold_mac else \"regular o mala\"\n",
    "    print(f\"Tu modelo tiene una MAE de {mae:.2f}, considerada {calidad} (umbral definido: {threshold_mac}).\")\n",
    "\n",
    "umbral_widget = widgets.FloatSlider(value=1.0, min=0.1, max=5.0, step=0.1, description='Umbral MAE:')\n",
    "widgets.interactive(evaluar_predicciones, threshold_mac=umbral_widget)"
   ]
  }
 ],
 "metadata": {
  "kernelspec": {
   "display_name": "venv",
   "language": "python",
   "name": "python3"
  },
  "language_info": {
   "codemirror_mode": {
    "name": "ipython",
    "version": 3
   },
   "file_extension": ".py",
   "mimetype": "text/x-python",
   "name": "python",
   "nbconvert_exporter": "python",
   "pygments_lexer": "ipython3",
   "version": "3.13.7"
  }
 },
 "nbformat": 4,
 "nbformat_minor": 5
}
