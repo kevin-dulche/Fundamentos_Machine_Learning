{
 "cells": [
  {
   "cell_type": "code",
   "execution_count": 1,
   "id": "6987f89a",
   "metadata": {},
   "outputs": [],
   "source": [
    "import pandas as pd\n",
    "from sklearn.model_selection import train_test_split\n",
    "import ipywidgets as widgets\n",
    "from IPython.display import display"
   ]
  },
  {
   "cell_type": "code",
   "execution_count": 2,
   "id": "914a9a37",
   "metadata": {},
   "outputs": [],
   "source": [
    "# Cargar el conjunto de datos\n",
    "df_partidos = pd.read_csv(\"../partidos_cebollitas_fe82a1a4-e109-41b1-8b78-d9b4341dacaf.csv\")\n",
    "\n",
    "# df_partidos_cebollitas = df_partidos[(df_partidos['equipo_local'] == 'Cebollitas FC') | (df_partidos['equipo_visitante'] == 'Cebollitas FC')]\n",
    "df_partidos_cebollitas = df_partidos[df_partidos['equipo_local'] == 'Cebollitas FC']\n",
    "df_partidos_cebollitas.reset_index(drop=True, inplace=True)\n",
    "df_partidos = df_partidos_cebollitas.copy()\n",
    "\n",
    "# Crear variable objetivo\n",
    "df_partidos['diferencia_goles'] = df_partidos['goles_local'] - df_partidos['goles_visitante']\n",
    "\n",
    "# Variables predictoras\n",
    "X = df_partidos[['posesion_local (%)', 'tiros_arco_local']]\n",
    "y = df_partidos['diferencia_goles']\n",
    "\n",
    "# Division estandar: 80% entrenamiento, 20% prueba\n",
    "X_train, X_test, y_train, y_test = train_test_split(X, y, test_size=0.2, random_state=42)\n"
   ]
  },
  {
   "cell_type": "code",
   "execution_count": 3,
   "id": "9dd730b8",
   "metadata": {},
   "outputs": [
    {
     "name": "stdout",
     "output_type": "stream",
     "text": [
      "Modelo entrenado con éxito.\n"
     ]
    }
   ],
   "source": [
    "from sklearn.linear_model import LinearRegression\n",
    "\n",
    "# Instanciar y entrenar el modelo\n",
    "modelo_rl = LinearRegression()\n",
    "modelo_rl.fit(X_train, y_train)\n",
    "\n",
    "print(\"Modelo entrenado con éxito.\")"
   ]
  },
  {
   "cell_type": "code",
   "execution_count": 4,
   "id": "c48c91bb",
   "metadata": {},
   "outputs": [
    {
     "name": "stdout",
     "output_type": "stream",
     "text": [
      "Intercepto: 0.9306240604681204\n",
      "Coeficientes: [ 0.02996299 -0.3743741 ]\n",
      "\n",
      "Interpretación de los coeficientes:\n",
      "Si aumentaras 1 unidad en 'posesion_local (%)', la diferencia de goles cambiaría en promedio 0.03 unidades.\n",
      "Si aumentaras 1 unidad en 'tiros_arco_local', la diferencia de goles cambiaría en promedio -0.37 unidades.\n"
     ]
    }
   ],
   "source": [
    "# Mostrar coeficientes\n",
    "print(f\"Intercepto: {modelo_rl.intercept_}\")\n",
    "print(f\"Coeficientes: {modelo_rl.coef_}\")\n",
    "\n",
    "# Interpretación amigable\n",
    "print(\"\\nInterpretación de los coeficientes:\")\n",
    "for idx, col_name in enumerate(X.columns):\n",
    "    print(f\"Si aumentaras 1 unidad en '{col_name}', la diferencia de goles cambiaría en promedio {modelo_rl.coef_[idx]:.2f} unidades.\")"
   ]
  },
  {
   "cell_type": "code",
   "execution_count": 5,
   "id": "20893850",
   "metadata": {},
   "outputs": [
    {
     "data": {
      "text/html": [
       "<div>\n",
       "<style scoped>\n",
       "    .dataframe tbody tr th:only-of-type {\n",
       "        vertical-align: middle;\n",
       "    }\n",
       "\n",
       "    .dataframe tbody tr th {\n",
       "        vertical-align: top;\n",
       "    }\n",
       "\n",
       "    .dataframe thead th {\n",
       "        text-align: right;\n",
       "    }\n",
       "</style>\n",
       "<table border=\"1\" class=\"dataframe\">\n",
       "  <thead>\n",
       "    <tr style=\"text-align: right;\">\n",
       "      <th></th>\n",
       "      <th>posesion_local (%)</th>\n",
       "      <th>tiros_arco_local</th>\n",
       "      <th>diferencia_goles_real</th>\n",
       "      <th>diferencia_goles_predicha</th>\n",
       "    </tr>\n",
       "  </thead>\n",
       "  <tbody>\n",
       "    <tr>\n",
       "      <th>8</th>\n",
       "      <td>57</td>\n",
       "      <td>11</td>\n",
       "      <td>-1</td>\n",
       "      <td>-1.48</td>\n",
       "    </tr>\n",
       "    <tr>\n",
       "      <th>16</th>\n",
       "      <td>60</td>\n",
       "      <td>12</td>\n",
       "      <td>3</td>\n",
       "      <td>-1.76</td>\n",
       "    </tr>\n",
       "    <tr>\n",
       "      <th>0</th>\n",
       "      <td>55</td>\n",
       "      <td>10</td>\n",
       "      <td>1</td>\n",
       "      <td>-1.17</td>\n",
       "    </tr>\n",
       "    <tr>\n",
       "      <th>24</th>\n",
       "      <td>46</td>\n",
       "      <td>5</td>\n",
       "      <td>0</td>\n",
       "      <td>0.44</td>\n",
       "    </tr>\n",
       "    <tr>\n",
       "      <th>11</th>\n",
       "      <td>57</td>\n",
       "      <td>7</td>\n",
       "      <td>3</td>\n",
       "      <td>0.02</td>\n",
       "    </tr>\n",
       "    <tr>\n",
       "      <th>9</th>\n",
       "      <td>52</td>\n",
       "      <td>10</td>\n",
       "      <td>0</td>\n",
       "      <td>-1.26</td>\n",
       "    </tr>\n",
       "  </tbody>\n",
       "</table>\n",
       "</div>"
      ],
      "text/plain": [
       "    posesion_local (%)  tiros_arco_local  diferencia_goles_real  \\\n",
       "8                   57                11                     -1   \n",
       "16                  60                12                      3   \n",
       "0                   55                10                      1   \n",
       "24                  46                 5                      0   \n",
       "11                  57                 7                      3   \n",
       "9                   52                10                      0   \n",
       "\n",
       "    diferencia_goles_predicha  \n",
       "8                       -1.48  \n",
       "16                      -1.76  \n",
       "0                       -1.17  \n",
       "24                       0.44  \n",
       "11                       0.02  \n",
       "9                       -1.26  "
      ]
     },
     "execution_count": 5,
     "metadata": {},
     "output_type": "execute_result"
    }
   ],
   "source": [
    "# Hacer predicciones\n",
    "y_pred = modelo_rl.predict(X_test)\n",
    "\n",
    "# Comparar predicciones con valores reales\n",
    "df_resultados = X_test.copy()\n",
    "df_resultados['diferencia_goles_real'] = y_test\n",
    "df_resultados['diferencia_goles_predicha'] = y_pred.round(2)\n",
    "\n",
    "df_resultados.head(10)"
   ]
  },
  {
   "cell_type": "code",
   "execution_count": 7,
   "id": "cecdff2d",
   "metadata": {},
   "outputs": [
    {
     "data": {
      "image/png": "[encoded data removed]",
      "text/plain": [
       "<Figure size 1000x600 with 1 Axes>"
      ]
     },
     "metadata": {},
     "output_type": "display_data"
    }
   ],
   "source": [
    "import matplotlib.pyplot as plt\n",
    "import seaborn as sns\n",
    "\n",
    "# Crear gráfica de dispersión\n",
    "plt.figure(figsize=(10, 6))\n",
    "sns.scatterplot(x=y_test, y=y_pred)\n",
    "plt.xlabel('Diferencia de Goles Real')\n",
    "plt.ylabel('Diferencia de Goles Predicha')\n",
    "plt.title('Predicciones vs Resultados Reales')\n",
    "plt.axline((0, 0), slope=1, color='red', linestyle='--', label='Línea Ideal') # Linea ideal\n",
    "plt.legend()\n",
    "plt.show()"
   ]
  },
  {
   "cell_type": "code",
   "execution_count": 9,
   "id": "68d8e1c6",
   "metadata": {},
   "outputs": [
    {
     "data": {
      "application/vnd.jupyter.widget-view+json": {
       "model_id": "6529822e1f254403a59f1735da45cba6",
       "version_major": 2,
       "version_minor": 0
      },
      "text/plain": [
       "interactive(children=(FloatSlider(value=30.0, description='Posesión (%)', max=70.0, min=30.0, step=1.0), IntSl…"
      ]
     },
     "execution_count": 9,
     "metadata": {},
     "output_type": "execute_result"
    }
   ],
   "source": [
    "import ipywidgets as widgets\n",
    "\n",
    "# Widgets de entrada\n",
    "posesion_input = widgets.FloatSlider(min=30, max=70, step=1, description='Posesión (%)')\n",
    "tiros_input = widgets.IntSlider(min=1, max=15, step=1, description='Tiros al Arco')\n",
    "\n",
    "# Funcion de predicción\n",
    "def predecir_goles(posesion, tiros):\n",
    "    # Crear un DataFrame temporal con nombres de columnas esperados por el modelo\n",
    "    entrada = pd.DataFrame([[posesion, tiros]], columns=['posesion_local (%)', 'tiros_arco_local'])\n",
    "    pred = modelo_rl.predict(entrada)[0]\n",
    "    print(f\"Diferencia de goles predicha: {pred:.2f}\")\n",
    "\n",
    "# Mostrar widget interactivo\n",
    "widgets.interactive(predecir_goles, posesion=posesion_input, tiros=tiros_input)"
   ]
  }
 ],
 "metadata": {
  "kernelspec": {
   "display_name": "venv",
   "language": "python",
   "name": "python3"
  },
  "language_info": {
   "codemirror_mode": {
    "name": "ipython",
    "version": 3
   },
   "file_extension": ".py",
   "mimetype": "text/x-python",
   "name": "python",
   "nbconvert_exporter": "python",
   "pygments_lexer": "ipython3",
   "version": "3.13.7"
  }
 },
 "nbformat": 4,
 "nbformat_minor": 5
}
