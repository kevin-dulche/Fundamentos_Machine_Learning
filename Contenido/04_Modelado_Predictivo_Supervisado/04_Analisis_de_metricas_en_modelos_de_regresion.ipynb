{
 "cells": [
  {
   "cell_type": "code",
   "execution_count": 1,
   "id": "0fd64bb0",
   "metadata": {},
   "outputs": [],
   "source": [
    "import pandas as pd\n",
    "from sklearn.model_selection import train_test_split\n",
    "import ipywidgets as widgets\n",
    "from IPython.display import display"
   ]
  },
  {
   "cell_type": "code",
   "execution_count": 2,
   "id": "4fe73efb",
   "metadata": {},
   "outputs": [],
   "source": [
    "# Cargar el conjunto de datos\n",
    "df_partidos = pd.read_csv(\"../partidos_cebollitas_fe82a1a4-e109-41b1-8b78-d9b4341dacaf.csv\")\n",
    "\n",
    "# df_partidos_cebollitas = df_partidos[(df_partidos['equipo_local'] == 'Cebollitas FC') | (df_partidos['equipo_visitante'] == 'Cebollitas FC')]\n",
    "df_partidos_cebollitas = df_partidos[df_partidos['equipo_local'] == 'Cebollitas FC']\n",
    "df_partidos_cebollitas.reset_index(drop=True, inplace=True)\n",
    "df_partidos = df_partidos_cebollitas.copy()\n",
    "\n",
    "# Crear variable objetivo\n",
    "df_partidos['diferencia_goles'] = df_partidos['goles_local'] - df_partidos['goles_visitante']\n",
    "\n",
    "# Variables predictoras\n",
    "X = df_partidos[['posesion_local (%)', 'tiros_arco_local']]\n",
    "y = df_partidos['diferencia_goles']\n",
    "\n",
    "# Division estandar: 80% entrenamiento, 20% prueba\n",
    "X_train, X_test, y_train, y_test = train_test_split(X, y, test_size=0.2, random_state=42)"
   ]
  },
  {
   "cell_type": "code",
   "execution_count": 3,
   "id": "d307febb",
   "metadata": {},
   "outputs": [],
   "source": [
    "# Entrenar modelo de regresión lineal\n",
    "from sklearn.linear_model import LinearRegression\n",
    "\n",
    "model_rl = LinearRegression()\n",
    "model_rl.fit(X_train, y_train)\n",
    "\n",
    "# Hacer predicciones\n",
    "y_pred = model_rl.predict(X_test)"
   ]
  },
  {
   "cell_type": "code",
   "execution_count": 4,
   "id": "9c1530e3",
   "metadata": {},
   "outputs": [
    {
     "name": "stdout",
     "output_type": "stream",
     "text": [
      "RMSE: 2.53\n",
      "R2: -1.73\n"
     ]
    }
   ],
   "source": [
    "import numpy as np\n",
    "from sklearn.metrics import mean_absolute_error, mean_squared_error, r2_score\n",
    "\n",
    "# Calcular métricas\n",
    "rmse = np.sqrt(mean_squared_error(y_test, y_pred))\n",
    "r2 = r2_score(y_test, y_pred)\n",
    "\n",
    "print(f\"RMSE: {rmse:.2f}\")\n",
    "print(f\"R2: {r2:.2f}\")"
   ]
  },
  {
   "cell_type": "code",
   "execution_count": 5,
   "id": "f09e8d6a",
   "metadata": {},
   "outputs": [
    {
     "name": "stdout",
     "output_type": "stream",
     "text": [
      "El modelo tiene un R² negativo, lo que indica que no explica la variabilidad de los datos y es peor que adivinar.\n",
      "Considera mejorar el modelo añadiendo variables relevantes o utilizando modelos más complejos.\n"
     ]
    }
   ],
   "source": [
    "if r2 < 0:\n",
    "    print(\"El modelo tiene un R² negativo, lo que indica que no explica la variabilidad de los datos y es peor que adivinar.\")\n",
    "    print(\"Considera mejorar el modelo añadiendo variables relevantes o utilizando modelos más complejos.\")\n",
    "elif r2 < 0.3:\n",
    "    print(\"El modelo tiene un R² bajo, lo que sugiere que podría estar subajustado (underfitting).\")\n",
    "    print(\"Considera añadir más variables o utilizar modelos más complejos.\")\n",
    "else:\n",
    "    print(\"El modelo tiene un R² aceptable, pero siempre es posible mejorar.\")\n",
    "    print(\"Considera probar modelos más complejos o ajustar los hiperparámetros.\")"
   ]
  },
  {
   "cell_type": "code",
   "execution_count": 6,
   "id": "36440ae6",
   "metadata": {},
   "outputs": [
    {
     "data": {
      "image/png": "[encoded data removed]",
      "text/plain": [
       "<Figure size 640x480 with 1 Axes>"
      ]
     },
     "metadata": {},
     "output_type": "display_data"
    }
   ],
   "source": [
    "import seaborn as sns\n",
    "import matplotlib.pyplot as plt\n",
    "\n",
    "sns.histplot(y_test - y_pred, kde=True, bins=15)\n",
    "plt.title(\"Distribución de los errores de predicción\")\n",
    "plt.xlabel(\"Error (Real - Predicción)\")\n",
    "plt.show()"
   ]
  },
  {
   "cell_type": "markdown",
   "id": "6e9c575a",
   "metadata": {},
   "source": [
    "## Reflexión\n",
    "\n",
    "* ¿Qué te dicen estas métricas?\n",
    "* ¿Crees que las variables usadas realmente capturan lo que determina la diferencia de goles?\n",
    "* ¿Qué limitaciones tiene la regresión lineal para el fútbol?\n",
    "* ¿Te parece que este modelo es suficiente para tomar decisiones deportivas?"
   ]
  },
  {
   "cell_type": "markdown",
   "id": "f946f2db",
   "metadata": {},
   "source": [
    "## ¿Qué podrías probar ahora?\n",
    "\n",
    "* Añadir nuevas variables (localidad, rival, tiros del rival)\n",
    "* Probar otro tipo de modelo (Árboles, Random Forest, XGBoost)\n",
    "* Usar validación cruzada\n",
    "* Filtrar o transformar datos"
   ]
  },
  {
   "cell_type": "markdown",
   "id": "f0a2c79a",
   "metadata": {},
   "source": [
    "**En ML, lo importante no es tener razón... sino aprender rápido cuándo no la tenemos.**"
   ]
  }
 ],
 "metadata": {
  "kernelspec": {
   "display_name": "venv",
   "language": "python",
   "name": "python3"
  },
  "language_info": {
   "codemirror_mode": {
    "name": "ipython",
    "version": 3
   },
   "file_extension": ".py",
   "mimetype": "text/x-python",
   "name": "python",
   "nbconvert_exporter": "python",
   "pygments_lexer": "ipython3",
   "version": "3.13.7"
  }
 },
 "nbformat": 4,
 "nbformat_minor": 5
}
